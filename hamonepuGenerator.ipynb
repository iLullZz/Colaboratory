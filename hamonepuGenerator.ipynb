{
  "nbformat": 4,
  "nbformat_minor": 0,
  "metadata": {
    "colab": {
      "name": "hamonepuGenerator.ipynb",
      "provenance": [],
      "collapsed_sections": [],
      "authorship_tag": "ABX9TyMMrrGfQsXADrUO5G6s8HOV",
      "include_colab_link": true
    },
    "kernelspec": {
      "name": "python3",
      "display_name": "Python 3"
    }
  },
  "cells": [
    {
      "cell_type": "markdown",
      "metadata": {
        "id": "view-in-github",
        "colab_type": "text"
      },
      "source": [
        "<a href=\"https://colab.research.google.com/github/iLullZz/Colaboratory/blob/main/hamonepuGenerator.ipynb\" target=\"_parent\"><img src=\"https://colab.research.google.com/assets/colab-badge.svg\" alt=\"Open In Colab\"/></a>"
      ]
    },
    {
      "cell_type": "code",
      "metadata": {
        "id": "3N5NiLwGE7Ct",
        "colab": {
          "base_uri": "https://localhost:8080/"
        },
        "outputId": "6f19b4d9-a229-481c-9bb9-4df4670e93cb"
      },
      "source": [
        "pip install Pillow"
      ],
      "execution_count": 18,
      "outputs": [
        {
          "output_type": "stream",
          "text": [
            "Requirement already satisfied: Pillow in /usr/local/lib/python3.7/dist-packages (7.1.2)\n"
          ],
          "name": "stdout"
        }
      ]
    },
    {
      "cell_type": "code",
      "metadata": {
        "id": "8IOHe7JtiI72",
        "colab": {
          "base_uri": "https://localhost:8080/"
        },
        "outputId": "0e60561a-dc71-4d0d-98ba-0e04b5875a8c"
      },
      "source": [
        "pip install Numpy"
      ],
      "execution_count": 19,
      "outputs": [
        {
          "output_type": "stream",
          "text": [
            "Requirement already satisfied: Numpy in /usr/local/lib/python3.7/dist-packages (1.19.5)\n"
          ],
          "name": "stdout"
        }
      ]
    },
    {
      "cell_type": "code",
      "metadata": {
        "id": "j3vMer7fC65a",
        "colab": {
          "base_uri": "https://localhost:8080/"
        },
        "outputId": "801eac28-bd7c-41d8-b5de-b7013a4f53f7"
      },
      "source": [
        "pip install requests requests_oauthlib"
      ],
      "execution_count": 20,
      "outputs": [
        {
          "output_type": "stream",
          "text": [
            "Requirement already satisfied: requests in /usr/local/lib/python3.7/dist-packages (2.23.0)\n",
            "Requirement already satisfied: requests_oauthlib in /usr/local/lib/python3.7/dist-packages (1.3.0)\n",
            "Requirement already satisfied: chardet<4,>=3.0.2 in /usr/local/lib/python3.7/dist-packages (from requests) (3.0.4)\n",
            "Requirement already satisfied: certifi>=2017.4.17 in /usr/local/lib/python3.7/dist-packages (from requests) (2020.12.5)\n",
            "Requirement already satisfied: idna<3,>=2.5 in /usr/local/lib/python3.7/dist-packages (from requests) (2.10)\n",
            "Requirement already satisfied: urllib3!=1.25.0,!=1.25.1,<1.26,>=1.21.1 in /usr/local/lib/python3.7/dist-packages (from requests) (1.24.3)\n",
            "Requirement already satisfied: oauthlib>=3.0.0 in /usr/local/lib/python3.7/dist-packages (from requests_oauthlib) (3.1.0)\n"
          ],
          "name": "stdout"
        }
      ]
    },
    {
      "cell_type": "code",
      "metadata": {
        "id": "O02N3YtZnXBA",
        "colab": {
          "base_uri": "https://localhost:8080/"
        },
        "outputId": "d9d59ab4-543c-46c0-a3e4-47f8086af062"
      },
      "source": [
        "pip install tweepy"
      ],
      "execution_count": 21,
      "outputs": [
        {
          "output_type": "stream",
          "text": [
            "Requirement already satisfied: tweepy in /usr/local/lib/python3.7/dist-packages (3.10.0)\n",
            "Requirement already satisfied: requests-oauthlib>=0.7.0 in /usr/local/lib/python3.7/dist-packages (from tweepy) (1.3.0)\n",
            "Requirement already satisfied: requests[socks]>=2.11.1 in /usr/local/lib/python3.7/dist-packages (from tweepy) (2.23.0)\n",
            "Requirement already satisfied: six>=1.10.0 in /usr/local/lib/python3.7/dist-packages (from tweepy) (1.15.0)\n",
            "Requirement already satisfied: oauthlib>=3.0.0 in /usr/local/lib/python3.7/dist-packages (from requests-oauthlib>=0.7.0->tweepy) (3.1.0)\n",
            "Requirement already satisfied: idna<3,>=2.5 in /usr/local/lib/python3.7/dist-packages (from requests[socks]>=2.11.1->tweepy) (2.10)\n",
            "Requirement already satisfied: certifi>=2017.4.17 in /usr/local/lib/python3.7/dist-packages (from requests[socks]>=2.11.1->tweepy) (2020.12.5)\n",
            "Requirement already satisfied: urllib3!=1.25.0,!=1.25.1,<1.26,>=1.21.1 in /usr/local/lib/python3.7/dist-packages (from requests[socks]>=2.11.1->tweepy) (1.24.3)\n",
            "Requirement already satisfied: chardet<4,>=3.0.2 in /usr/local/lib/python3.7/dist-packages (from requests[socks]>=2.11.1->tweepy) (3.0.4)\n",
            "Requirement already satisfied: PySocks!=1.5.7,>=1.5.6; extra == \"socks\" in /usr/local/lib/python3.7/dist-packages (from requests[socks]>=2.11.1->tweepy) (1.7.1)\n"
          ],
          "name": "stdout"
        }
      ]
    },
    {
      "cell_type": "code",
      "metadata": {
        "id": "rF4tgDW7Q8uj",
        "colab": {
          "base_uri": "https://localhost:8080/"
        },
        "outputId": "9ad10437-b913-47f2-fb69-84c4fb6d32f2"
      },
      "source": [
        "from google.colab import drive\n",
        "drive.mount('/content/drive')"
      ],
      "execution_count": 22,
      "outputs": [
        {
          "output_type": "stream",
          "text": [
            "Drive already mounted at /content/drive; to attempt to forcibly remount, call drive.mount(\"/content/drive\", force_remount=True).\n"
          ],
          "name": "stdout"
        }
      ]
    },
    {
      "cell_type": "code",
      "metadata": {
        "id": "c1BWUcrtFA22"
      },
      "source": [
        "import os, datetime, csv, json\n",
        "import numpy as np\n",
        "from PIL import Image, ImageDraw, ImageFont, ImageFilter, ImageEnhance\n",
        "\n",
        "class CreateImage :\n",
        "\tdef __init__(self, size, log) :\n",
        "\t\tself.imgSize = size;\n",
        "\t\tself.img = Image.new(\"RGB\", size, (0, 0, 0))\n",
        "\t\tself.log = log\n",
        "\t\tself.text = { \"font\" : None, \"size\" : None, \"rgba\" : None }\n",
        "    \n",
        "\tdef addImage(self, pos = (0, 0) , size = None) :\n",
        "\t\tsize = size if size else self.imgSize\n",
        "\t\tself.img.paste(self.nextImg, pos, self.nextImg)\n",
        "\t\t\n",
        "\tdef addNext(self, r, g, b) :\n",
        "\t\tself.nextImg = Image.new(\"RGBA\", self.imgSize, (r, g, b, 0))\n",
        "\t\treturn self\n",
        "\n",
        "\tdef nextImage(self, src, pos = (0, 0) , size = None, alpha = None) :\n",
        "\t\tsize = size if size else self.imgSize\n",
        "\t\timg = Image.open(src).resize(size)\n",
        "\t\talphaImg = Image.open(alpha).resize(size).convert(\"RGBA\") if alpha else img\n",
        "\t\tself.nextImg.paste(img, pos, alphaImg)\n",
        "\t\tdel img, alphaImg\n",
        "\t\treturn self\n",
        "\n",
        "\tdef nextText(self, text, pos, rgba = None, font = None, size = None) : \n",
        "\t\trgbaSet = rgba if rgba else self.text[\"rgba\"]\n",
        "\t\tcolor = (rgbaSet[0], rgbaSet[1], rgbaSet[2], round(rgbaSet[3] * 255))\n",
        "\t\tfontSet = ImageFont.truetype(font = (font if font else self.text[\"font\"]), size = (size if size else self.text[\"size\"]), encoding = \"unic\")\n",
        "\t\t\n",
        "\t\tdraw = ImageDraw.Draw(self.nextImg)\n",
        "\t\tdraw.text(pos, text = text, font = fontSet, fill = color)\n",
        "\t\tdel draw\n",
        "\t\treturn self\n",
        "\n",
        "\n",
        "\tdef nextImage(self, src, pos = (0, 0) , size = None, alpha = None) :\n",
        "\t\tsize = size if size else self.imgSize\n",
        "\t\timg = Image.open(src).resize(size)\n",
        "\t\talphaImg = Image.open(alpha).resize(size).convert(\"RGBA\") if alpha else img\n",
        "\t\tself.nextImg.paste(img, pos, alphaImg)\n",
        "\t\tdel img, alphaImg\n",
        "\t\treturn self\n",
        "\n",
        "\tdef nextGamma(self, gamma) :\n",
        "\t\tlookup = [min(round((i / 255) ** (1 / gamma) * 255), 255) for i in range(256)]\n",
        "\t\timgArray = np.array(self.nextImg)\n",
        "\t\ttoGamma = np.vectorize(lambda x : lookup [x])\n",
        "\t\timgArray = toGamma(imgArray)\n",
        "\t\tself.nextImg = Image.fromarray(np.uint8(imgArray))\n",
        "\t\tdel imgArray\n",
        "\t\treturn self\n",
        "\n",
        "\tdef getImageSize(self, imgSrc, size, angle) :\n",
        "\t\timg = Image.open(imgSrc)\n",
        "\t\tif angle == \"width\" :\n",
        "\t\t\treturn (size , int(round(img.height / img.width * size)))\n",
        "\t\telse :\n",
        "\t\t\treturn (int(round(img.width / img.height * size)), size)\n",
        "\n",
        "\n",
        "\tdef save(self, filePath, fileType) :\n",
        "\t\tself.img.save(filePath, fileType)"
      ],
      "execution_count": 23,
      "outputs": []
    },
    {
      "cell_type": "code",
      "metadata": {
        "id": "BNkw2Ka5C--v"
      },
      "source": [
        "import requests\n",
        "from requests_oauthlib import OAuth1\n",
        "import json\n",
        "\n",
        "import sys\n",
        "ROOTPATH ='drive/My Drive/アカペラ/Work/ハモネプ/'\n",
        "sys.path.append(ROOTPATH)\n",
        "\n",
        "import my_module\n",
        "\n",
        "from my_module import config\n",
        "\n",
        "CK = config.CONSUMER_KEY\n",
        "CS = config.CONSUMER_SECRET\n",
        "AT = config.ACCESS_TOKEN\n",
        "ATS = config.ACCESS_SECRET\n",
        "\n",
        "class Twitter :\n",
        "  URL = {\n",
        "    \"update\" : \"https://api.twitter.com/1.1/statuses/update.json\",\n",
        "    \"media\" : \"https://upload.twitter.com/1.1/media/upload.json\"\n",
        "        }\n",
        "\n",
        "  def __init__(self) :\n",
        "    self.OAuth = OAuth1(CK, CS, AT, ATS)\n",
        "    self.log = log\n",
        "\n",
        "  def mediaUpload(self, src) :\n",
        "    # media = open('/content/drive/My Drive/アカペラ/Work/ハモネプ/new_img/\" + time[\"datetime\"].strftime(\"%Y-%m-%d.%H-%M-%S\") + \".png\"' \"rb\")\n",
        "    media = open(src, \"rb\")\n",
        "\n",
        "    params = { \"media\" : media }\n",
        "    request = requests.post(Twitter.URL[\"media\"], files = params, auth = self.OAuth)\n",
        "    requestJson = json.loads(request.text)\n",
        "    if request.status_code == 200 :\n",
        "      self.log.add(\"画像のアップロードに成功しました\")\n",
        "      self.log.add(\"・media-id：%s\" % requestJson[\"media_id\"])\n",
        "      return {\"state\" : True, \"media-id\" : requestJson[\"media_id\"] }\n",
        "    else :\n",
        "      errorMsg = requestJson[\"errors\"][0]\n",
        "      self.log.add(\"画像のアップロードに失敗しました・HTTPステータスコード：%s\" % request.status_code)\n",
        "      self.log.add(\"・エラーコード：%s\" % errorMsg[\"code\"])\n",
        "      self.log.add(\"・エラーメッセージ：%s\" % errorMsg[\"message\"])\n",
        "      return { \"state\" : True, \"status-code\" : request.status_code, \"code\" : errorMsg[\"code\"], \"message\" : errorMsg[\"message\"]}\n",
        "\n",
        "  def update(self, txt, mediaId) :\n",
        "    params = { \"status\" : txt, \"media_ids\" : (mediaId) }\n",
        "    request = requests.post(Twitter.URL[\"update\"], params = params, auth = self.OAuth)\n",
        "    requestJson = json.loads(request.text)\n",
        "\n",
        "    if request.status_code == 200 :\n",
        "      self.log.add(\"投稿に成功しました\")\n",
        "      self.log.add(\"・id：%s\" % requestJson[\"id\"])\n",
        "      self.log.add(\"・投稿内容：%s\" % requestJson[\"text\"])\n",
        "      return True;\n",
        "    else  :\n",
        "      errorMsg = requestJson[\"errors\"][0]\n",
        "      self.log.add(\"投稿に失敗しました\")\n",
        "      self.log.add(\"・HTTPステータスコード\\t：%s\" % (request.status_code))\n",
        "      self.log.add(\"・エラーコード：%s\" % errorMsg[\"code\"])\n",
        "      self.log.add(\"・エラーメッセージ：%s\" % errorMsg[\"message\"])\n",
        "      return { \"state\" : True, \"status-code\" : request.status_code, \"code\" : errorMsg[\"code\"], \"message\" : errorMsg[\"message\"] }\n",
        "      "
      ],
      "execution_count": 32,
      "outputs": []
    },
    {
      "cell_type": "code",
      "metadata": {
        "id": "RG64sox5QWEG"
      },
      "source": [
        "class Log :\n",
        "\tdef __init__(self) :\n",
        "\t\tself.text = \"\"\n",
        "\tdef add(self, text) :\n",
        "\t\tself.text += text + \"\\r\\n\"\n",
        "\t\tprint(text)\n",
        "\tdef save(self, path) :\n",
        "\t\twith open(path, \"a\", newline=\"\") as file :\n",
        "\t\t\tfile.write(self.text + \"\\r\\n\")"
      ],
      "execution_count": 25,
      "outputs": []
    },
    {
      "cell_type": "code",
      "metadata": {
        "id": "RpI7dKS2QNep"
      },
      "source": [
        "\t#ログ生成\n",
        "\tlog = Log()"
      ],
      "execution_count": 26,
      "outputs": []
    },
    {
      "cell_type": "code",
      "metadata": {
        "id": "_kdx0eQtnwmR"
      },
      "source": [
        "import re\n",
        "import urllib\n",
        "import tweepy\n",
        "\n",
        "URL = {\n",
        "  \"update\" : \"https://api.twitter.com/1.1/statuses/update.json\",\n",
        "  \"media\" : \"https://upload.twitter.com/1.1/media/upload.json\"\n",
        "      }\n",
        "\n",
        "auth = tweepy.OAuthHandler(CK,CS)\n",
        "\n",
        "class Listener(tweepy.StreamListener):\n",
        "  #自動でフォロー\n",
        "  def on_event(self, event):\n",
        "    if event.event == 'follow':\n",
        "      if event.source[\"id\"] != api.me().id:\n",
        "        api.create_friendship(event.source[\"id\"])"
      ],
      "execution_count": 35,
      "outputs": []
    },
    {
      "cell_type": "code",
      "metadata": {
        "id": "R-iTrjLqF5Ba",
        "colab": {
          "base_uri": "https://localhost:8080/"
        },
        "outputId": "4ea24662-a917-4ca9-fcfd-923c7daa9141"
      },
      "source": [
        "if __name__ == \"__main__\":\n",
        "\n",
        "\tlog = Log()\n",
        "\t# log.add(\"実行日時：\" + time[\"date\"]  + time[\"time\"])\n",
        " \n",
        "\tlistener = Listener()\n",
        "\tstream = tweepy.Stream(auth, listener)\n",
        "\tstream.userstream()\n",
        "\n",
        " \n",
        "\t#画像生成\n",
        "\timgSize = (1122, 1114)\n",
        "\tWhite4textcolor = (255, 255, 255, 1.0)\n",
        "\tBlack4textcolor = (0, 0, 0, 1.0)\n",
        "\n",
        "\t#フォント取得\n",
        "\tfontSrc = {\n",
        "\t\t\"Gosicc\" :\"/content/drive/My Drive/アカペラ/Work/ハモネプ/HGRGE.TTC\",\n",
        "\t}\n",
        "\n",
        "\t#画像取得\n",
        "\timgSrc = {\n",
        "\t\t\"template\" : \"/content/drive/My Drive/アカペラ/Work/ハモネプ/ハモネプテンプレ.png\",\n",
        "\t\t\"partyparott\" : \"/content/drive/My Drive/背景素材/partyparott.png\",\n",
        "\t}\n",
        "\t#時間取得\n",
        "\ttime = { \"datetime\" : datetime.datetime.now() }\n",
        "\ttime[\"year\"] = time[\"datetime\"].year\n",
        "\ttime[\"month\"] = time[\"datetime\"].month\n",
        "\ttime[\"day\"] = time[\"datetime\"].day\n",
        "\ttime[\"time\"] = time[\"datetime\"].strftime(\"%H:%M:%S:%f\")\n",
        "\ttime[\"date\"] = \"%d.%d/%d\" % (time[\"year\"], time[\"month\"], time[\"day\"])\n",
        "\n",
        "\n",
        "\t#リサイズ\n",
        "\tim = Image.open('/content/drive/My Drive/背景素材/partyparott.png').convert(\"RGBA\")\n",
        "\tim.thumbnail((1122,756),Image.ANTIALIAS)\n",
        "  # img_resize = img.resize((1122, 756))\n",
        "\tmediaPath_R= \"/content/drive/My Drive/アカペラ/Work/ハモネプ/new_img/\"+\"Resize\"+\".png\"\n",
        "\tim.save(mediaPath_R, \"PNG\")\n",
        "\timgSrc[\"Resize\"] = \"/content/drive/My Drive/アカペラ/Work/ハモネプ/new_img/Resize.png\"\n",
        "\n",
        "\n",
        "\timg = CreateImage(imgSize,log)\n",
        "\timg.addNext(255, 255, 255).nextImage(imgSrc[\"Resize\"],(0,100),(1122, 756)).nextGamma(0.8).addImage((0,108))\n",
        "\timg.addNext(255, 255, 255).nextImage(imgSrc[\"template\"]).addImage()\n",
        "\n",
        "\t#文字入れ系\n",
        "\tFtSz = 80\n",
        "\tBandName = \"PartyParrot\"\n",
        "\tfont = ImageFont.truetype(fontSrc[\"Gosicc\"], size=FtSz)\n",
        "\n",
        "\timg4b = Image.open('/content/drive/My Drive/アカペラ/Work/ハモネプ/ハモネプテンプレ.png')\n",
        "\n",
        "\tdraw = ImageDraw.Draw(img4b)\n",
        "\tdraw_text_width, draw_text_height= draw.textsize(BandName, font=font)\n",
        "\tstart_X_point = img4b.size[0]/ 2 - draw_text_width / 2\n",
        " \n",
        "#エントリーNo\n",
        "\timg.text[\"rgba\"] = White4textcolor\n",
        "\timg.text[\"font\"] = fontSrc[\"Gosicc\"]\n",
        "\timg.addNext(255, 255, 255).nextText(\"エントリーNo.XX\", (250,51), size = 80).addImage()\n",
        "#バンド名\n",
        "\timg.text[\"rgba\"] = Black4textcolor\n",
        "\timg.text[\"font\"] = fontSrc[\"Gosicc\"]\n",
        "\timg.addNext(255, 255, 255).nextText(BandName, (start_X_point,980), size = FtSz).addImage()\n",
        "\n",
        "#出力\n",
        "mediaPath = \"/content/drive/My Drive/アカペラ/Work/ハモネプ/new_img/\" + time[\"datetime\"].strftime(\"%Y-%m-%d.%H-%M-%S\") + \".png\"\n",
        "img.save(mediaPath, \"PNG\")\n",
        "\n",
        "twitter = Twitter()\n",
        "media = twitter.mediaUpload(mediaPath)\n",
        "if media[\"state\"] :\n",
        "\ttwitter.update(\"PythonからTwitter APIを動かすあれ\", media[\"media-id\"])\n",
        " \n",
        "log.save(\"/content/drive/My Drive/アカペラ/Work/ハモネプ/new_img//data.log\")"
      ],
      "execution_count": 33,
      "outputs": [
        {
          "output_type": "stream",
          "text": [
            "画像のアップロードに成功しました\n",
            "・media-id：1380391569866555394\n",
            "投稿に成功しました\n",
            "・id：1380391572093726723\n",
            "・投稿内容：PythonからTwitter APIを動かすあれ https://t.co/8oBHWKwblt\n"
          ],
          "name": "stdout"
        }
      ]
    }
  ]
}